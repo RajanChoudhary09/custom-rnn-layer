{
  "nbformat": 4,
  "nbformat_minor": 0,
  "metadata": {
    "colab": {
      "provenance": [],
      "gpuType": "T4",
      "authorship_tag": "ABX9TyPlA1Gv+7S1kR+86hUb19LL",
      "include_colab_link": true
    },
    "kernelspec": {
      "name": "python3",
      "display_name": "Python 3"
    },
    "language_info": {
      "name": "python"
    },
    "accelerator": "GPU"
  },
  "cells": [
    {
      "cell_type": "markdown",
      "metadata": {
        "id": "view-in-github",
        "colab_type": "text"
      },
      "source": [
        "<a href=\"https://colab.research.google.com/github/RajanChoudhary09/custom-rnn-layer/blob/main/custom_RNN_layer.ipynb\" target=\"_parent\"><img src=\"https://colab.research.google.com/assets/colab-badge.svg\" alt=\"Open In Colab\"/></a>"
      ]
    },
    {
      "cell_type": "code",
      "execution_count": null,
      "metadata": {
        "id": "nZz-Z53FBep_",
        "colab": {
          "base_uri": "https://localhost:8080/"
        },
        "outputId": "4282a9c7-e6a3-42eb-9887-52f2b70b1300"
      },
      "outputs": [
        {
          "output_type": "stream",
          "name": "stdout",
          "text": [
            "Running the custom RNN on input sequence:\n",
            "\n",
            "Time step 1:\n",
            "Output shape: (2, 1)\n",
            "Hidden state shape: (4, 1)\n",
            "Input x:\n",
            " [[ 0.16834462]\n",
            " [-0.25420585]\n",
            " [ 0.13670385]]\n",
            "Output y:\n",
            " [[0.00216748]\n",
            " [0.00400508]]\n",
            "hidden state:\n",
            " [[-0.00618658]\n",
            " [ 0.03104162]\n",
            " [-0.00759619]\n",
            " [ 0.02321657]]\n",
            "----------------------------------------\n",
            "Time step 2:\n",
            "Output shape: (2, 1)\n",
            "Hidden state shape: (4, 1)\n",
            "Input x:\n",
            " [[-0.2385381 ]\n",
            " [-0.12350856]\n",
            " [ 0.68320334]]\n",
            "Output y:\n",
            " [[0.00723848]\n",
            " [0.00695001]]\n",
            "hidden state:\n",
            " [[-0.0470682 ]\n",
            " [ 0.03454858]\n",
            " [ 0.00132556]\n",
            " [ 0.07259838]]\n",
            "----------------------------------------\n",
            "Time step 3:\n",
            "Output shape: (2, 1)\n",
            "Hidden state shape: (4, 1)\n",
            "Input x:\n",
            " [[ 1.3462921]\n",
            " [-1.0266665]\n",
            " [ 0.2600799]]\n",
            "Output y:\n",
            " [[0.00676842]\n",
            " [0.01719948]]\n",
            "hidden state:\n",
            " [[ 0.00713515]\n",
            " [ 0.14478984]\n",
            " [-0.03788041]\n",
            " [ 0.08058292]]\n",
            "----------------------------------------\n",
            "Time step 4:\n",
            "Output shape: (2, 1)\n",
            "Hidden state shape: (4, 1)\n",
            "Input x:\n",
            " [[ 0.46569976]\n",
            " [-0.82881016]\n",
            " [-0.42534247]]\n",
            "Output y:\n",
            " [[-0.00083859]\n",
            " [ 0.00421869]]\n",
            "hidden state:\n",
            " [[ 0.01495588]\n",
            " [ 0.05429398]\n",
            " [-0.02563474]\n",
            " [-0.00902056]]\n",
            "----------------------------------------\n",
            "Time step 5:\n",
            "Output shape: (2, 1)\n",
            "Hidden state shape: (4, 1)\n",
            "Input x:\n",
            " [[ 2.5149684]\n",
            " [-1.1324097]\n",
            " [-0.3559667]]\n",
            "Output y:\n",
            " [[0.00112303]\n",
            " [0.01749603]]\n",
            "hidden state:\n",
            " [[ 0.0856236 ]\n",
            " [ 0.17259902]\n",
            " [-0.05006991]\n",
            " [ 0.03909225]]\n",
            "----------------------------------------\n"
          ]
        }
      ],
      "source": [
        "import tensorflow as tf\n",
        "import numpy as np\n",
        "\n",
        "class MyRNNCell(tf.keras.layers.Layer):\n",
        "  def __init__(self, rnn_units, input_dim, output_dim):\n",
        "    super(MyRNNCell, self).__init__()\n",
        "    self.rnn_units = rnn_units\n",
        "    self.input_dim = input_dim\n",
        "    self.output_dim = output_dim\n",
        "\n",
        "    self.W_xh = self.add_weight(shape=(self.rnn_units, self.input_dim), initializer='random_normal', trainable=True)\n",
        "    self.W_hh = self.add_weight(shape=(self.rnn_units, self.rnn_units), initializer='random_normal', trainable=True)\n",
        "    self.W_hy = self.add_weight(shape=(self.output_dim, self.rnn_units), initializer='random_normal', trainable=True)\n",
        "\n",
        "    self.h = tf.zeros(shape=(self.rnn_units, 1))\n",
        "\n",
        "  def call(self, x):\n",
        "    self.h = tf.tanh(tf.matmul(self.W_xh, x) + tf.matmul(self.W_hh, self.h))\n",
        "    output = tf.matmul(self.W_hy, self.h)\n",
        "    return output, self.h\n",
        "\n",
        "input_dim = 3\n",
        "output_dim =2\n",
        "rnn_units =4\n",
        "\n",
        "rnn = MyRNNCell(rnn_units, input_dim, output_dim)\n",
        "\n",
        "sequence_length = 5\n",
        "inputs = [tf.random.normal(shape=(input_dim, 1)) for _ in range(sequence_length)]\n",
        "\n",
        "print(\"Running the custom RNN on input sequence:\\n\")\n",
        "for t, x in enumerate(inputs):\n",
        "  output, hidden = rnn(x)\n",
        "  print(f\"Time step {t+1}:\")\n",
        "  print(f\"Output shape: {output.shape}\")\n",
        "  print(f\"Hidden state shape: {hidden.shape}\")\n",
        "  print(\"Input x:\\n\", x.numpy())\n",
        "  print(\"Output y:\\n\", output.numpy())\n",
        "  print(\"hidden state:\\n\", hidden.numpy())\n",
        "  print(\"-\" * 40)"
      ]
    },
    {
      "cell_type": "code",
      "source": [],
      "metadata": {
        "id": "py825vj-6uaV"
      },
      "execution_count": null,
      "outputs": []
    }
  ]
}